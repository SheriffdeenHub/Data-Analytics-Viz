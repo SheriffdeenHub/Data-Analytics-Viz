{
 "cells": [
  {
   "cell_type": "code",
   "execution_count": 1,
   "metadata": {},
   "outputs": [],
   "source": [
    "import pandas as pd"
   ]
  },
  {
   "cell_type": "code",
   "execution_count": 2,
   "metadata": {},
   "outputs": [],
   "source": [
    "df = pd.read_csv('Bike_Sales_CSV_Lab.csv')"
   ]
  },
  {
   "cell_type": "code",
   "execution_count": 3,
   "metadata": {},
   "outputs": [
    {
     "data": {
      "text/html": [
       "<div>\n",
       "<style scoped>\n",
       "    .dataframe tbody tr th:only-of-type {\n",
       "        vertical-align: middle;\n",
       "    }\n",
       "\n",
       "    .dataframe tbody tr th {\n",
       "        vertical-align: top;\n",
       "    }\n",
       "\n",
       "    .dataframe thead th {\n",
       "        text-align: right;\n",
       "    }\n",
       "</style>\n",
       "<table border=\"1\" class=\"dataframe\">\n",
       "  <thead>\n",
       "    <tr style=\"text-align: right;\">\n",
       "      <th></th>\n",
       "      <th>Date</th>\n",
       "      <th>Age_Group</th>\n",
       "      <th>Product_Category</th>\n",
       "      <th>Order_Quantity</th>\n",
       "      <th>Unit_Price</th>\n",
       "      <th>Revenue</th>\n",
       "    </tr>\n",
       "  </thead>\n",
       "  <tbody>\n",
       "    <tr>\n",
       "      <td>0</td>\n",
       "      <td>1/31/2021</td>\n",
       "      <td>Adults (35-64)</td>\n",
       "      <td>Bikes</td>\n",
       "      <td>30</td>\n",
       "      <td>$1,120.00</td>\n",
       "      <td>$33,600.00</td>\n",
       "    </tr>\n",
       "    <tr>\n",
       "      <td>1</td>\n",
       "      <td>2/28/2021</td>\n",
       "      <td>Young Adults (25-34)</td>\n",
       "      <td>Bikes</td>\n",
       "      <td>20</td>\n",
       "      <td>$3,578.00</td>\n",
       "      <td>$71,560.00</td>\n",
       "    </tr>\n",
       "    <tr>\n",
       "      <td>2</td>\n",
       "      <td>3/31/2021</td>\n",
       "      <td>Youth (&lt;25)</td>\n",
       "      <td>Bikes</td>\n",
       "      <td>10</td>\n",
       "      <td>$2,443.00</td>\n",
       "      <td>$24,430.00</td>\n",
       "    </tr>\n",
       "    <tr>\n",
       "      <td>3</td>\n",
       "      <td>4/30/2021</td>\n",
       "      <td>Youth (&lt;25)</td>\n",
       "      <td>Bikes</td>\n",
       "      <td>10</td>\n",
       "      <td>$2,295.00</td>\n",
       "      <td>$22,950.00</td>\n",
       "    </tr>\n",
       "    <tr>\n",
       "      <td>4</td>\n",
       "      <td>5/31/2021</td>\n",
       "      <td>Adults (35-64)</td>\n",
       "      <td>Bikes</td>\n",
       "      <td>11</td>\n",
       "      <td>$540.00</td>\n",
       "      <td>$5,940.00</td>\n",
       "    </tr>\n",
       "  </tbody>\n",
       "</table>\n",
       "</div>"
      ],
      "text/plain": [
       "        Date             Age_Group Product_Category  Order_Quantity  \\\n",
       "0  1/31/2021        Adults (35-64)            Bikes              30   \n",
       "1  2/28/2021  Young Adults (25-34)            Bikes              20   \n",
       "2  3/31/2021           Youth (<25)            Bikes              10   \n",
       "3  4/30/2021           Youth (<25)            Bikes              10   \n",
       "4  5/31/2021        Adults (35-64)            Bikes              11   \n",
       "\n",
       "   Unit_Price      Revenue  \n",
       "0  $1,120.00   $33,600.00   \n",
       "1  $3,578.00   $71,560.00   \n",
       "2  $2,443.00   $24,430.00   \n",
       "3  $2,295.00   $22,950.00   \n",
       "4    $540.00    $5,940.00   "
      ]
     },
     "execution_count": 3,
     "metadata": {},
     "output_type": "execute_result"
    }
   ],
   "source": [
    "df.head()"
   ]
  },
  {
   "cell_type": "markdown",
   "metadata": {},
   "source": [
    "Data Cleaning"
   ]
  },
  {
   "cell_type": "code",
   "execution_count": 4,
   "metadata": {
    "scrolled": true
   },
   "outputs": [
    {
     "data": {
      "text/plain": [
       "Date                0\n",
       "Age_Group           0\n",
       "Product_Category    0\n",
       "Order_Quantity      0\n",
       "Unit_Price          0\n",
       "Revenue             0\n",
       "dtype: int64"
      ]
     },
     "execution_count": 4,
     "metadata": {},
     "output_type": "execute_result"
    }
   ],
   "source": [
    "df.isnull().sum()"
   ]
  },
  {
   "cell_type": "code",
   "execution_count": 5,
   "metadata": {},
   "outputs": [
    {
     "ename": "NameError",
     "evalue": "name 'df_cleaned' is not defined",
     "output_type": "error",
     "traceback": [
      "\u001b[1;31m---------------------------------------------------------------------------\u001b[0m",
      "\u001b[1;31mNameError\u001b[0m                                 Traceback (most recent call last)",
      "\u001b[1;32m<ipython-input-5-54ec41b7feef>\u001b[0m in \u001b[0;36m<module>\u001b[1;34m\u001b[0m\n\u001b[1;32m----> 1\u001b[1;33m \u001b[0mdf_cleaned\u001b[0m\u001b[1;33m.\u001b[0m\u001b[0mhead\u001b[0m\u001b[1;33m(\u001b[0m\u001b[1;33m)\u001b[0m\u001b[1;33m\u001b[0m\u001b[1;33m\u001b[0m\u001b[0m\n\u001b[0m",
      "\u001b[1;31mNameError\u001b[0m: name 'df_cleaned' is not defined"
     ]
    }
   ],
   "source": [
    "df_cleaned.head()"
   ]
  },
  {
   "cell_type": "markdown",
   "metadata": {},
   "source": [
    "Basic Analysis"
   ]
  },
  {
   "cell_type": "code",
   "execution_count": 8,
   "metadata": {},
   "outputs": [],
   "source": [
    "mean = df['Order_Quantity'].mean()"
   ]
  },
  {
   "cell_type": "code",
   "execution_count": 9,
   "metadata": {},
   "outputs": [],
   "source": [
    "median = df['Order_Quantity'].median()"
   ]
  },
  {
   "cell_type": "code",
   "execution_count": 10,
   "metadata": {},
   "outputs": [],
   "source": [
    "std_dev = df['Order_Quantity'].std()"
   ]
  },
  {
   "cell_type": "code",
   "execution_count": 11,
   "metadata": {},
   "outputs": [
    {
     "name": "stdout",
     "output_type": "stream",
     "text": [
      "Mean: 22.923076923076923\n"
     ]
    }
   ],
   "source": [
    "print(f\"Mean: {mean}\")"
   ]
  },
  {
   "cell_type": "code",
   "execution_count": 13,
   "metadata": {},
   "outputs": [
    {
     "name": "stdout",
     "output_type": "stream",
     "text": [
      "20.0\n"
     ]
    }
   ],
   "source": [
    "print (median)"
   ]
  },
  {
   "cell_type": "code",
   "execution_count": 14,
   "metadata": {},
   "outputs": [
    {
     "name": "stdout",
     "output_type": "stream",
     "text": [
      "12.392615667280378\n"
     ]
    }
   ],
   "source": [
    "print(std_dev)"
   ]
  },
  {
   "cell_type": "markdown",
   "metadata": {},
   "source": [
    "Visualization"
   ]
  },
  {
   "cell_type": "code",
   "execution_count": 15,
   "metadata": {},
   "outputs": [],
   "source": [
    "import matplotlib.pyplot as plt"
   ]
  },
  {
   "cell_type": "code",
   "execution_count": 17,
   "metadata": {},
   "outputs": [],
   "source": [
    "df['Date'] = pd.to_datetime(df['Date'])"
   ]
  },
  {
   "cell_type": "code",
   "execution_count": 18,
   "metadata": {},
   "outputs": [
    {
     "data": {
      "text/html": [
       "<div>\n",
       "<style scoped>\n",
       "    .dataframe tbody tr th:only-of-type {\n",
       "        vertical-align: middle;\n",
       "    }\n",
       "\n",
       "    .dataframe tbody tr th {\n",
       "        vertical-align: top;\n",
       "    }\n",
       "\n",
       "    .dataframe thead th {\n",
       "        text-align: right;\n",
       "    }\n",
       "</style>\n",
       "<table border=\"1\" class=\"dataframe\">\n",
       "  <thead>\n",
       "    <tr style=\"text-align: right;\">\n",
       "      <th></th>\n",
       "      <th>Date</th>\n",
       "      <th>Age_Group</th>\n",
       "      <th>Product_Category</th>\n",
       "      <th>Order_Quantity</th>\n",
       "      <th>Unit_Price</th>\n",
       "      <th>Revenue</th>\n",
       "    </tr>\n",
       "  </thead>\n",
       "  <tbody>\n",
       "    <tr>\n",
       "      <td>0</td>\n",
       "      <td>2021-01-31</td>\n",
       "      <td>Adults (35-64)</td>\n",
       "      <td>Bikes</td>\n",
       "      <td>30</td>\n",
       "      <td>$1,120.00</td>\n",
       "      <td>$33,600.00</td>\n",
       "    </tr>\n",
       "    <tr>\n",
       "      <td>1</td>\n",
       "      <td>2021-02-28</td>\n",
       "      <td>Young Adults (25-34)</td>\n",
       "      <td>Bikes</td>\n",
       "      <td>20</td>\n",
       "      <td>$3,578.00</td>\n",
       "      <td>$71,560.00</td>\n",
       "    </tr>\n",
       "    <tr>\n",
       "      <td>2</td>\n",
       "      <td>2021-03-31</td>\n",
       "      <td>Youth (&lt;25)</td>\n",
       "      <td>Bikes</td>\n",
       "      <td>10</td>\n",
       "      <td>$2,443.00</td>\n",
       "      <td>$24,430.00</td>\n",
       "    </tr>\n",
       "    <tr>\n",
       "      <td>3</td>\n",
       "      <td>2021-04-30</td>\n",
       "      <td>Youth (&lt;25)</td>\n",
       "      <td>Bikes</td>\n",
       "      <td>10</td>\n",
       "      <td>$2,295.00</td>\n",
       "      <td>$22,950.00</td>\n",
       "    </tr>\n",
       "    <tr>\n",
       "      <td>4</td>\n",
       "      <td>2021-05-31</td>\n",
       "      <td>Adults (35-64)</td>\n",
       "      <td>Bikes</td>\n",
       "      <td>11</td>\n",
       "      <td>$540.00</td>\n",
       "      <td>$5,940.00</td>\n",
       "    </tr>\n",
       "  </tbody>\n",
       "</table>\n",
       "</div>"
      ],
      "text/plain": [
       "        Date             Age_Group Product_Category  Order_Quantity  \\\n",
       "0 2021-01-31        Adults (35-64)            Bikes              30   \n",
       "1 2021-02-28  Young Adults (25-34)            Bikes              20   \n",
       "2 2021-03-31           Youth (<25)            Bikes              10   \n",
       "3 2021-04-30           Youth (<25)            Bikes              10   \n",
       "4 2021-05-31        Adults (35-64)            Bikes              11   \n",
       "\n",
       "   Unit_Price      Revenue  \n",
       "0  $1,120.00   $33,600.00   \n",
       "1  $3,578.00   $71,560.00   \n",
       "2  $2,443.00   $24,430.00   \n",
       "3  $2,295.00   $22,950.00   \n",
       "4    $540.00    $5,940.00   "
      ]
     },
     "execution_count": 18,
     "metadata": {},
     "output_type": "execute_result"
    }
   ],
   "source": [
    "df.head()"
   ]
  },
  {
   "cell_type": "code",
   "execution_count": 22,
   "metadata": {},
   "outputs": [
    {
     "data": {
      "image/png": "[encoded data removed]",
      "text/plain": [
       "<Figure size 432x288 with 1 Axes>"
      ]
     },
     "metadata": {
      "needs_background": "light"
     },
     "output_type": "display_data"
    }
   ],
   "source": [
    "plt.plot(df['Date'], df['Order_Quantity'])\n",
    "plt.title('Order_Qty Over Time')\n",
    "plt.xlabel('Date')\n",
    "plt.ylabel('Order_Qty')\n",
    "plt.grid(True)\n",
    "plt.show()"
   ]
  },
  {
   "cell_type": "code",
   "execution_count": 20,
   "metadata": {},
   "outputs": [
    {
     "data": {
      "text/plain": [
       "Text(0.5, 1.0, 'Order_Qty Over Time')"
      ]
     },
     "execution_count": 20,
     "metadata": {},
     "output_type": "execute_result"
    },
    {
     "data": {
      "image/png": "[encoded data removed]",
      "text/plain": [
       "<Figure size 432x288 with 1 Axes>"
      ]
     },
     "metadata": {
      "needs_background": "light"
     },
     "output_type": "display_data"
    }
   ],
   "source": [
    "plt.title('Order_Qty Over Time')"
   ]
  },
  {
   "cell_type": "markdown",
   "metadata": {},
   "source": [
    "Documentation\n",
    "\n",
    "Step 1: Loading the dataset - The data is from one of my previous works. I linked it to the path of the file to load it into the notebook. \n",
    "Step 2: Data Cleaning - I checked for missing values in the data and I found out that there was none\n",
    "Step 3: Basic Analysis - Using the order quantity column, I calculated the mean, median and standard deviation\n",
    "Step 4: Visualization - I plotted a line graph of order quantity against date to look at the trend of the order rate over the time and I saw that there was inconsistent trend. "
   ]
  }
 ],
 "metadata": {
  "kernelspec": {
   "display_name": "Python 3",
   "language": "python",
   "name": "python3"
  },
  "language_info": {
   "codemirror_mode": {
    "name": "ipython",
    "version": 3
   },
   "file_extension": ".py",
   "mimetype": "text/x-python",
   "name": "python",
   "nbconvert_exporter": "python",
   "pygments_lexer": "ipython3",
   "version": "3.7.4"
  }
 },
 "nbformat": 4,
 "nbformat_minor": 2
}
